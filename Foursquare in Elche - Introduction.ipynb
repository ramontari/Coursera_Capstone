{
 "cells": [
  {
   "cell_type": "markdown",
   "metadata": {},
   "source": [
    "# Business in Elche"
   ]
  },
  {
   "cell_type": "markdown",
   "metadata": {},
   "source": [
    "## Opening a Padel Tennis Club in Elche"
   ]
  },
  {
   "cell_type": "markdown",
   "metadata": {},
   "source": [
    "In times of Covid-19, the people is concerned about the minimum distance across individuals. So an investor is willing to open a Padel Tennis Club where people can do sport in a secure way."
   ]
  },
  {
   "cell_type": "markdown",
   "metadata": {},
   "source": [
    "In order to achieve this objective, we're going to use Foursquare API to know where can be a good location and where are the other similar clubs, trying to be a step away from other clubs."
   ]
  },
  {
   "cell_type": "markdown",
   "metadata": {},
   "source": [
    "This club is for people who wants to stay healthy and to achieve this status, they want to do it in a funny and secure way."
   ]
  },
  {
   "cell_type": "markdown",
   "metadata": {},
   "source": [
    "## Data section"
   ]
  },
  {
   "cell_type": "markdown",
   "metadata": {},
   "source": [
    "For this project, we are using the Foursquare API location to know in neighborhoods has a Padel Tennis Club and how common it is. Also, in order to make this project more reliable, there will be an approximation on the annual income of each neighborhood, because people with more income wants to be social distinguised, so this also attracts other people that want to enter in this world."
   ]
  },
  {
   "cell_type": "markdown",
   "metadata": {},
   "source": [
    "The *Neighborhoods* and *Annual Income* for each neighborhood are going to be introduced manually because they aren't easily accesible across internet. Then we are goint to download all venues from the Foursquare API that has each neighborhood. After this, we search the neighborhood that has a Padel Tennis Club or similar. Then we see if there is a relation between the annual income and the existence of a Padel Tennis Club. Finally, we select an appropiate neighborhood to locate the Padel Tennis Club if there is a good one."
   ]
  },
  {
   "cell_type": "markdown",
   "metadata": {},
   "source": [
    "## Import libraries"
   ]
  },
  {
   "cell_type": "code",
   "execution_count": 18,
   "metadata": {},
   "outputs": [],
   "source": [
    "import pandas as pd\n",
    "import numpy as np\n",
    "from geopy.geocoders import Nominatim # convert an address into latitude and longitude values\n",
    "import folium # map rendering library\n",
    "import requests # library to handle requests\n",
    "from pandas.io.json import json_normalize # tranform JSON file into a pandas dataframe\n",
    "# import k-means from clustering stage\n",
    "from sklearn.cluster import KMeans\n",
    "# Matplotlib and associated plotting modules\n",
    "import matplotlib.cm as cm\n",
    "import matplotlib.colors as colors"
   ]
  },
  {
   "cell_type": "markdown",
   "metadata": {},
   "source": [
    "### Create DataFrame of *Postal Codes*, *Neighborhoods* and *Annual Income* in Elche with pandas"
   ]
  },
  {
   "cell_type": "markdown",
   "metadata": {},
   "source": [
    "Create a DataFrame manually as this information is only available locally."
   ]
  },
  {
   "cell_type": "code",
   "execution_count": 7,
   "metadata": {},
   "outputs": [
    {
     "data": {
      "text/html": [
       "<div>\n",
       "<style scoped>\n",
       "    .dataframe tbody tr th:only-of-type {\n",
       "        vertical-align: middle;\n",
       "    }\n",
       "\n",
       "    .dataframe tbody tr th {\n",
       "        vertical-align: top;\n",
       "    }\n",
       "\n",
       "    .dataframe thead th {\n",
       "        text-align: right;\n",
       "    }\n",
       "</style>\n",
       "<table border=\"1\" class=\"dataframe\">\n",
       "  <thead>\n",
       "    <tr style=\"text-align: right;\">\n",
       "      <th></th>\n",
       "      <th>Postal Code</th>\n",
       "      <th>Borough</th>\n",
       "      <th>Neighborhood</th>\n",
       "      <th>Latitude</th>\n",
       "      <th>Longitude</th>\n",
       "      <th>Annual Income</th>\n",
       "    </tr>\n",
       "  </thead>\n",
       "  <tbody>\n",
       "    <tr>\n",
       "      <th>0</th>\n",
       "      <td>03139</td>\n",
       "      <td>Camp d'Elx</td>\n",
       "      <td>Valverde</td>\n",
       "      <td>38.236437</td>\n",
       "      <td>-0.597824</td>\n",
       "      <td>22213</td>\n",
       "    </tr>\n",
       "    <tr>\n",
       "      <th>1</th>\n",
       "      <td>03194</td>\n",
       "      <td>Camp d'Elx</td>\n",
       "      <td>La Marina</td>\n",
       "      <td>38.147014</td>\n",
       "      <td>-0.644511</td>\n",
       "      <td>20000</td>\n",
       "    </tr>\n",
       "    <tr>\n",
       "      <th>2</th>\n",
       "      <td>03195</td>\n",
       "      <td>Camp d'Elx</td>\n",
       "      <td>El Altet, Los Arenales</td>\n",
       "      <td>38.265322</td>\n",
       "      <td>-0.546587</td>\n",
       "      <td>22213</td>\n",
       "    </tr>\n",
       "    <tr>\n",
       "      <th>3</th>\n",
       "      <td>03201</td>\n",
       "      <td>El Pla</td>\n",
       "      <td>Pont Nou, El Pla Alt</td>\n",
       "      <td>38.265580</td>\n",
       "      <td>-0.705921</td>\n",
       "      <td>21638</td>\n",
       "    </tr>\n",
       "    <tr>\n",
       "      <th>4</th>\n",
       "      <td>03202</td>\n",
       "      <td>Altabix</td>\n",
       "      <td>Altabix, Candalix, Cases de Fernandez, Ciutat ...</td>\n",
       "      <td>38.271360</td>\n",
       "      <td>-0.684831</td>\n",
       "      <td>23595</td>\n",
       "    </tr>\n",
       "  </tbody>\n",
       "</table>\n",
       "</div>"
      ],
      "text/plain": [
       "  Postal Code     Borough                                       Neighborhood  \\\n",
       "0       03139  Camp d'Elx                                           Valverde   \n",
       "1       03194  Camp d'Elx                                          La Marina   \n",
       "2       03195  Camp d'Elx                             El Altet, Los Arenales   \n",
       "3       03201      El Pla                               Pont Nou, El Pla Alt   \n",
       "4       03202     Altabix  Altabix, Candalix, Cases de Fernandez, Ciutat ...   \n",
       "\n",
       "    Latitude  Longitude  Annual Income  \n",
       "0  38.236437  -0.597824          22213  \n",
       "1  38.147014  -0.644511          20000  \n",
       "2  38.265322  -0.546587          22213  \n",
       "3  38.265580  -0.705921          21638  \n",
       "4  38.271360  -0.684831          23595  "
      ]
     },
     "execution_count": 7,
     "metadata": {},
     "output_type": "execute_result"
    }
   ],
   "source": [
    "data = {\"Postal Code\" : [\"03139\", \"03194\", \"03195\", \"03201\", \"03202\", \"03203\", \"03204\", \"03205\",\"03206\", \"03207\", \"03208\", \"03291\", \"03292\", \"03294\", \"03295\", \"03296\", \"03320\"],\n",
    "       \"Borough\" : [\"Camp d'Elx\", \"Camp d'Elx\", \"Camp d'Elx\", \"El Pla\", \"Altabix\", \"Altabix\", \"El Pla\", \"Carrús\", \"Carrús\", \"Camp d'Elx\", \"Altabix\", \"Camp d'Elx\", \"Camp d'Elx\", \"Camp d'Elx\", \"Camp d'Elx\", \"Camp d'Elx\", \"Torrellano\"],\n",
    "       \"Neighborhood\" : [\"Valverde\", \"La Marina\", \"El Altet, Los Arenales\", \"Pont Nou, El Pla Alt\", \"Altabix, Candalix, Cases de Fernandez, Ciutat Esportiva, Ciutat Universitaria\", \"Altabix Sur, Palmerales, La Torreta\", \"El Pla\", \"El Toscar\", \"Carrús Est\", \"La Galia\", \"Camp de Futbol\", \"Bonavista\", \"Las Bayas\", \"La Foia\", \"Maitino, Perleta\", \"Matola, Algoda\", \"Torrellano\"],\n",
    "       \"Latitude\" : [38.236437, 38.147014, 38.265322, 38.265580, 38.271360, 38.263938, 38.258853, 38.268918, 38.273851, 38.283386, 38.264313, 38.299481, 38.217869, 38.210718, 38.262412, 38.232012, 38.291186],\n",
    "       \"Longitude\" : [-0.597824, -0.644511, -0.546587, -0.705921, -0.684831, -0.687454, -0.705489, -0.714424, -0.707434, -0.690748, -0.664464, -0.681519, -0.640361, -0.682850, -0.634930, -0.745682, -0.590044],\n",
    "       \"Annual Income\" : [22213, 20000, 22213, 21638, 23595, 26155, 18618, 16811, 15320, 20000, 20000, 20000, 20264, 18711, 25067, 22576, 20474]}\n",
    "df = pd.DataFrame (data, columns = [\"Postal Code\", \"Borough\", \"Neighborhood\", \"Latitude\", \"Longitude\", \"Annual Income\"])\n",
    "df.head()"
   ]
  },
  {
   "cell_type": "markdown",
   "metadata": {},
   "source": [
    "### Shape of the dataframe"
   ]
  },
  {
   "cell_type": "code",
   "execution_count": 8,
   "metadata": {},
   "outputs": [
    {
     "data": {
      "text/plain": [
       "(17, 6)"
      ]
     },
     "execution_count": 8,
     "metadata": {},
     "output_type": "execute_result"
    }
   ],
   "source": [
    "df.shape"
   ]
  },
  {
   "cell_type": "markdown",
   "metadata": {},
   "source": [
    "### How many unique boroughs has Elche"
   ]
  },
  {
   "cell_type": "code",
   "execution_count": 11,
   "metadata": {},
   "outputs": [],
   "source": [
    "neighborhoods = df\n",
    "del neighborhoods[\"Annual Income\"]\n",
    "del neighborhoods[\"Postal Code\"]"
   ]
  },
  {
   "cell_type": "code",
   "execution_count": 12,
   "metadata": {},
   "outputs": [
    {
     "name": "stdout",
     "output_type": "stream",
     "text": [
      "The dataframe has 5 boroughs and 17 neighborhoods.\n"
     ]
    }
   ],
   "source": [
    "print('The dataframe has {} boroughs and {} neighborhoods.'.format(\n",
    "        len(neighborhoods['Borough'].unique()),\n",
    "        neighborhoods.shape[0]\n",
    "    )\n",
    ")"
   ]
  },
  {
   "cell_type": "markdown",
   "metadata": {},
   "source": [
    "#### Use geopy library to get the latitude and longitude values of Elche."
   ]
  },
  {
   "cell_type": "code",
   "execution_count": 16,
   "metadata": {},
   "outputs": [
    {
     "name": "stdout",
     "output_type": "stream",
     "text": [
      "The geograpical coordinate of Elche City are 38.2653181, -0.6988488.\n"
     ]
    }
   ],
   "source": [
    "address = 'Elche, Spain'\n",
    "\n",
    "geolocator = Nominatim(user_agent=\"toronto_explorer\")\n",
    "location = geolocator.geocode(address)\n",
    "latitude = location.latitude\n",
    "longitude = location.longitude\n",
    "print('The geograpical coordinate of Elche City are {}, {}.'.format(latitude, longitude))"
   ]
  },
  {
   "cell_type": "markdown",
   "metadata": {},
   "source": [
    "#### Create a map of Elche with neighborhoods superimposed on top."
   ]
  },
  {
   "cell_type": "code",
   "execution_count": 19,
   "metadata": {},
   "outputs": [
    {
     "data": {
      "text/html": [
       "<div style=\"width:100%;\"><div style=\"position:relative;width:100%;height:0;padding-bottom:60%;\"><iframe src=\"about:blank\" style=\"position:absolute;width:100%;height:100%;left:0;top:0;border:none !important;\" data-html=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 onload=\"this.contentDocument.open();this.contentDocument.write(atob(this.getAttribute('data-html')));this.contentDocument.close();\" allowfullscreen webkitallowfullscreen mozallowfullscreen></iframe></div></div>"
      ],
      "text/plain": [
       "<folium.folium.Map at 0x20f0f6ce708>"
      ]
     },
     "execution_count": 19,
     "metadata": {},
     "output_type": "execute_result"
    }
   ],
   "source": [
    "# create map of Elche using latitude and longitude values\n",
    "map_elche = folium.Map(location=[latitude, longitude], zoom_start=10)\n",
    "\n",
    "# add markers to map\n",
    "for lat, lng, borough, neighborhood in zip(neighborhoods['Latitude'], neighborhoods['Longitude'], neighborhoods['Borough'], neighborhoods['Neighborhood']):\n",
    "    label = '{}, {}'.format(neighborhood, borough)\n",
    "    label = folium.Popup(label, parse_html=True)\n",
    "    folium.CircleMarker(\n",
    "        [lat, lng],\n",
    "        radius=5,\n",
    "        popup=label,\n",
    "        color='blue',\n",
    "        fill=True,\n",
    "        fill_color='#3186cc',\n",
    "        fill_opacity=0.7,\n",
    "        parse_html=False).add_to(map_elche)  \n",
    "    \n",
    "map_elche"
   ]
  },
  {
   "cell_type": "markdown",
   "metadata": {},
   "source": [
    "Next, we are going to start utilizing the Foursquare API to explore the neighborhoods"
   ]
  },
  {
   "cell_type": "markdown",
   "metadata": {},
   "source": [
    "### Define Foursquare Credentials and Version"
   ]
  },
  {
   "cell_type": "code",
   "execution_count": 20,
   "metadata": {},
   "outputs": [
    {
     "name": "stdout",
     "output_type": "stream",
     "text": [
      "Your credentails:\n",
      "CLIENT_ID: 3BYUZL4WX20DWNURR5PQQRY5MIHE3PZNE3E0REKDJUZ11L3Z\n",
      "CLIENT_SECRET:GXQL5JCV1SQW2SHOVHUUIHEEZJ3LJJ2E3PGNLBVDOZIQIFKG\n"
     ]
    }
   ],
   "source": [
    "CLIENT_ID = '3BYUZL4WX20DWNURR5PQQRY5MIHE3PZNE3E0REKDJUZ11L3Z' # your Foursquare ID\n",
    "CLIENT_SECRET = 'GXQL5JCV1SQW2SHOVHUUIHEEZJ3LJJ2E3PGNLBVDOZIQIFKG' # your Foursquare Secret\n",
    "VERSION = '20180605' # Foursquare API version\n",
    "\n",
    "print('Your credentails:')\n",
    "print('CLIENT_ID: ' + CLIENT_ID)\n",
    "print('CLIENT_SECRET:' + CLIENT_SECRET)"
   ]
  },
  {
   "cell_type": "markdown",
   "metadata": {},
   "source": [
    "### Let's explore the first neighborhood in our dataframe."
   ]
  },
  {
   "cell_type": "code",
   "execution_count": 21,
   "metadata": {},
   "outputs": [
    {
     "name": "stdout",
     "output_type": "stream",
     "text": [
      "Latitude and longitude values of Valverde are 38.236437, -0.597824.\n"
     ]
    }
   ],
   "source": [
    "neighborhood_latitude = neighborhoods.loc[0, 'Latitude'] # neighborhood latitude value\n",
    "neighborhood_longitude = neighborhoods.loc[0, 'Longitude'] # neighborhood longitude value\n",
    "\n",
    "neighborhood_name =  neighborhoods.loc[0, 'Neighborhood'] # neighborhood name\n",
    "\n",
    "print('Latitude and longitude values of {} are {}, {}.'.format(neighborhood_name, \n",
    "                                                               neighborhood_latitude, \n",
    "                                                               neighborhood_longitude))"
   ]
  },
  {
   "cell_type": "markdown",
   "metadata": {},
   "source": [
    "#### Now, let's get the top 100 venues that are in Valverde within a radius of 500 meters."
   ]
  },
  {
   "cell_type": "markdown",
   "metadata": {},
   "source": [
    "First, let's create the GET request URL"
   ]
  },
  {
   "cell_type": "code",
   "execution_count": 23,
   "metadata": {},
   "outputs": [
    {
     "data": {
      "text/plain": [
       "'https://api.foursquare.com/v2/venues/explore?&client_id=3BYUZL4WX20DWNURR5PQQRY5MIHE3PZNE3E0REKDJUZ11L3Z&client_secret=GXQL5JCV1SQW2SHOVHUUIHEEZJ3LJJ2E3PGNLBVDOZIQIFKG&v=20180605&ll=38.236437,-0.597824&radius=500&limit=100'"
      ]
     },
     "execution_count": 23,
     "metadata": {},
     "output_type": "execute_result"
    }
   ],
   "source": [
    "LIMIT = 100\n",
    "radius = 500 # define radius\n",
    "url = 'https://api.foursquare.com/v2/venues/explore?&client_id={}&client_secret={}&v={}&ll={},{}&radius={}&limit={}'.format(\n",
    "    CLIENT_ID, \n",
    "    CLIENT_SECRET, \n",
    "    VERSION, \n",
    "    neighborhood_latitude, \n",
    "    neighborhood_longitude, \n",
    "    radius, \n",
    "    LIMIT)\n",
    "url # display URL"
   ]
  },
  {
   "cell_type": "markdown",
   "metadata": {},
   "source": [
    "Send the GET request and examine the results"
   ]
  },
  {
   "cell_type": "code",
   "execution_count": 24,
   "metadata": {},
   "outputs": [
    {
     "data": {
      "text/plain": [
       "{'meta': {'code': 200, 'requestId': '5eb12e526d8c56001bc89bde'},\n",
       " 'response': {'headerLocation': 'Current map view',\n",
       "  'headerFullLocation': 'Current map view',\n",
       "  'headerLocationGranularity': 'unknown',\n",
       "  'totalResults': 5,\n",
       "  'suggestedBounds': {'ne': {'lat': 38.240937004500005,\n",
       "    'lng': -0.5921055895272207},\n",
       "   'sw': {'lat': 38.2319369955, 'lng': -0.6035424104727793}},\n",
       "  'groups': [{'type': 'Recommended Places',\n",
       "    'name': 'recommended',\n",
       "    'items': [{'reasons': {'count': 0,\n",
       "       'items': [{'summary': 'This spot is popular',\n",
       "         'type': 'general',\n",
       "         'reasonName': 'globalInteractionReason'}]},\n",
       "      'venue': {'id': '4c9b58a713de9521f7dcde53',\n",
       "       'name': 'Restaurante Casa Molina',\n",
       "       'location': {'address': 'Partida Valverde Alto',\n",
       "        'crossStreet': 'Calle de la Ermita',\n",
       "        'lat': 38.23669696909725,\n",
       "        'lng': -0.5954074859619141,\n",
       "        'labeledLatLngs': [{'label': 'display',\n",
       "          'lat': 38.23669696909725,\n",
       "          'lng': -0.5954074859619141}],\n",
       "        'distance': 213,\n",
       "        'postalCode': '03139',\n",
       "        'cc': 'ES',\n",
       "        'city': 'Elche',\n",
       "        'state': 'Comunidad Valenciana',\n",
       "        'country': 'España',\n",
       "        'formattedAddress': ['Partida Valverde Alto (Calle de la Ermita)',\n",
       "         '03139 Elche Comunidad Valenciana',\n",
       "         'España']},\n",
       "       'categories': [{'id': '4bf58dd8d48988d150941735',\n",
       "         'name': 'Spanish Restaurant',\n",
       "         'pluralName': 'Spanish Restaurants',\n",
       "         'shortName': 'Spanish',\n",
       "         'icon': {'prefix': 'https://ss3.4sqi.net/img/categories_v2/food/spanish_',\n",
       "          'suffix': '.png'},\n",
       "         'primary': True}],\n",
       "       'photos': {'count': 0, 'groups': []}},\n",
       "      'referralId': 'e-0-4c9b58a713de9521f7dcde53-0'},\n",
       "     {'reasons': {'count': 0,\n",
       "       'items': [{'summary': 'This spot is popular',\n",
       "         'type': 'general',\n",
       "         'reasonName': 'globalInteractionReason'}]},\n",
       "      'venue': {'id': '4e90a4f95c5c4562f0178a22',\n",
       "       'name': 'Valverde',\n",
       "       'location': {'address': 'Carrer de Guillem Santacília 13',\n",
       "        'lat': 38.23667120582702,\n",
       "        'lng': -0.598019944021632,\n",
       "        'labeledLatLngs': [{'label': 'display',\n",
       "          'lat': 38.23667120582702,\n",
       "          'lng': -0.598019944021632}],\n",
       "        'distance': 31,\n",
       "        'cc': 'ES',\n",
       "        'city': 'Elche',\n",
       "        'state': 'Comunidad Valenciana',\n",
       "        'country': 'España',\n",
       "        'formattedAddress': ['Carrer de Guillem Santacília 13',\n",
       "         'Elche Comunidad Valenciana',\n",
       "         'España']},\n",
       "       'categories': [{'id': '4bf58dd8d48988d14d941735',\n",
       "         'name': 'Paella Restaurant',\n",
       "         'pluralName': 'Paella Restaurants',\n",
       "         'shortName': 'Paella',\n",
       "         'icon': {'prefix': 'https://ss3.4sqi.net/img/categories_v2/food/paella_',\n",
       "          'suffix': '.png'},\n",
       "         'primary': True}],\n",
       "       'photos': {'count': 0, 'groups': []}},\n",
       "      'referralId': 'e-0-4e90a4f95c5c4562f0178a22-1'},\n",
       "     {'reasons': {'count': 0,\n",
       "       'items': [{'summary': 'This spot is popular',\n",
       "         'type': 'general',\n",
       "         'reasonName': 'globalInteractionReason'}]},\n",
       "      'venue': {'id': '4d8a42da26a36ea83a26f1ad',\n",
       "       'name': 'Bar Indalecio',\n",
       "       'location': {'address': 'calle antela',\n",
       "        'lat': 38.23642730208309,\n",
       "        'lng': -0.5952465534210205,\n",
       "        'labeledLatLngs': [{'label': 'display',\n",
       "          'lat': 38.23642730208309,\n",
       "          'lng': -0.5952465534210205}],\n",
       "        'distance': 225,\n",
       "        'postalCode': '03203',\n",
       "        'cc': 'ES',\n",
       "        'city': 'Elche',\n",
       "        'state': 'Comunidad Valenciana',\n",
       "        'country': 'España',\n",
       "        'formattedAddress': ['calle antela',\n",
       "         '03203 Elche Comunidad Valenciana',\n",
       "         'España']},\n",
       "       'categories': [{'id': '4bf58dd8d48988d116941735',\n",
       "         'name': 'Bar',\n",
       "         'pluralName': 'Bars',\n",
       "         'shortName': 'Bar',\n",
       "         'icon': {'prefix': 'https://ss3.4sqi.net/img/categories_v2/nightlife/pub_',\n",
       "          'suffix': '.png'},\n",
       "         'primary': True}],\n",
       "       'photos': {'count': 0, 'groups': []}},\n",
       "      'referralId': 'e-0-4d8a42da26a36ea83a26f1ad-2'},\n",
       "     {'reasons': {'count': 0,\n",
       "       'items': [{'summary': 'This spot is popular',\n",
       "         'type': 'general',\n",
       "         'reasonName': 'globalInteractionReason'}]},\n",
       "      'venue': {'id': '4e48507b483b03d090f9826b',\n",
       "       'name': 'IndaGarden',\n",
       "       'location': {'lat': 38.23639030453121,\n",
       "        'lng': -0.5949499262866741,\n",
       "        'labeledLatLngs': [{'label': 'display',\n",
       "          'lat': 38.23639030453121,\n",
       "          'lng': -0.5949499262866741}],\n",
       "        'distance': 251,\n",
       "        'cc': 'ES',\n",
       "        'city': 'Elche Partida Valverde',\n",
       "        'country': 'España',\n",
       "        'formattedAddress': ['Elche Partida Valverde', 'España']},\n",
       "       'categories': [{'id': '4bf58dd8d48988d11e941735',\n",
       "         'name': 'Cocktail Bar',\n",
       "         'pluralName': 'Cocktail Bars',\n",
       "         'shortName': 'Cocktail',\n",
       "         'icon': {'prefix': 'https://ss3.4sqi.net/img/categories_v2/nightlife/cocktails_',\n",
       "          'suffix': '.png'},\n",
       "         'primary': True}],\n",
       "       'photos': {'count': 0, 'groups': []}},\n",
       "      'referralId': 'e-0-4e48507b483b03d090f9826b-3'},\n",
       "     {'reasons': {'count': 0,\n",
       "       'items': [{'summary': 'This spot is popular',\n",
       "         'type': 'general',\n",
       "         'reasonName': 'globalInteractionReason'}]},\n",
       "      'venue': {'id': '5289d073498e7772706f2d24',\n",
       "       'name': 'Farmacia De Valverde',\n",
       "       'location': {'lat': 38.23383562926473,\n",
       "        'lng': -0.5981447840706897,\n",
       "        'labeledLatLngs': [{'label': 'display',\n",
       "          'lat': 38.23383562926473,\n",
       "          'lng': -0.5981447840706897}],\n",
       "        'distance': 290,\n",
       "        'cc': 'ES',\n",
       "        'country': 'España',\n",
       "        'formattedAddress': ['España']},\n",
       "       'categories': [{'id': '4bf58dd8d48988d10f951735',\n",
       "         'name': 'Pharmacy',\n",
       "         'pluralName': 'Pharmacies',\n",
       "         'shortName': 'Pharmacy',\n",
       "         'icon': {'prefix': 'https://ss3.4sqi.net/img/categories_v2/shops/pharmacy_',\n",
       "          'suffix': '.png'},\n",
       "         'primary': True}],\n",
       "       'photos': {'count': 0, 'groups': []}},\n",
       "      'referralId': 'e-0-5289d073498e7772706f2d24-4'}]}]}}"
      ]
     },
     "execution_count": 24,
     "metadata": {},
     "output_type": "execute_result"
    }
   ],
   "source": [
    "results = requests.get(url).json()\n",
    "results"
   ]
  },
  {
   "cell_type": "markdown",
   "metadata": {},
   "source": [
    "From the Foursquare lab in the previous module, we know that all the information is in the *items* key. Before we proceed, let's borrow the **get_category_type** function from the Foursquare lab."
   ]
  },
  {
   "cell_type": "code",
   "execution_count": 25,
   "metadata": {},
   "outputs": [],
   "source": [
    "# function that extracts the category of the venue\n",
    "def get_category_type(row):\n",
    "    try:\n",
    "        categories_list = row['categories']\n",
    "    except:\n",
    "        categories_list = row['venue.categories']\n",
    "        \n",
    "    if len(categories_list) == 0:\n",
    "        return None\n",
    "    else:\n",
    "        return categories_list[0]['name']"
   ]
  },
  {
   "cell_type": "markdown",
   "metadata": {},
   "source": [
    "Now we are ready to clean the json and structure it into a *pandas* dataframe."
   ]
  },
  {
   "cell_type": "code",
   "execution_count": 27,
   "metadata": {},
   "outputs": [
    {
     "data": {
      "text/html": [
       "<div>\n",
       "<style scoped>\n",
       "    .dataframe tbody tr th:only-of-type {\n",
       "        vertical-align: middle;\n",
       "    }\n",
       "\n",
       "    .dataframe tbody tr th {\n",
       "        vertical-align: top;\n",
       "    }\n",
       "\n",
       "    .dataframe thead th {\n",
       "        text-align: right;\n",
       "    }\n",
       "</style>\n",
       "<table border=\"1\" class=\"dataframe\">\n",
       "  <thead>\n",
       "    <tr style=\"text-align: right;\">\n",
       "      <th></th>\n",
       "      <th>name</th>\n",
       "      <th>categories</th>\n",
       "      <th>lat</th>\n",
       "      <th>lng</th>\n",
       "    </tr>\n",
       "  </thead>\n",
       "  <tbody>\n",
       "    <tr>\n",
       "      <th>0</th>\n",
       "      <td>Restaurante Casa Molina</td>\n",
       "      <td>Spanish Restaurant</td>\n",
       "      <td>38.236697</td>\n",
       "      <td>-0.595407</td>\n",
       "    </tr>\n",
       "    <tr>\n",
       "      <th>1</th>\n",
       "      <td>Valverde</td>\n",
       "      <td>Paella Restaurant</td>\n",
       "      <td>38.236671</td>\n",
       "      <td>-0.598020</td>\n",
       "    </tr>\n",
       "    <tr>\n",
       "      <th>2</th>\n",
       "      <td>Bar Indalecio</td>\n",
       "      <td>Bar</td>\n",
       "      <td>38.236427</td>\n",
       "      <td>-0.595247</td>\n",
       "    </tr>\n",
       "    <tr>\n",
       "      <th>3</th>\n",
       "      <td>IndaGarden</td>\n",
       "      <td>Cocktail Bar</td>\n",
       "      <td>38.236390</td>\n",
       "      <td>-0.594950</td>\n",
       "    </tr>\n",
       "    <tr>\n",
       "      <th>4</th>\n",
       "      <td>Farmacia De Valverde</td>\n",
       "      <td>Pharmacy</td>\n",
       "      <td>38.233836</td>\n",
       "      <td>-0.598145</td>\n",
       "    </tr>\n",
       "  </tbody>\n",
       "</table>\n",
       "</div>"
      ],
      "text/plain": [
       "                      name          categories        lat       lng\n",
       "0  Restaurante Casa Molina  Spanish Restaurant  38.236697 -0.595407\n",
       "1                 Valverde   Paella Restaurant  38.236671 -0.598020\n",
       "2            Bar Indalecio                 Bar  38.236427 -0.595247\n",
       "3               IndaGarden        Cocktail Bar  38.236390 -0.594950\n",
       "4     Farmacia De Valverde            Pharmacy  38.233836 -0.598145"
      ]
     },
     "execution_count": 27,
     "metadata": {},
     "output_type": "execute_result"
    }
   ],
   "source": [
    "venues = results['response']['groups'][0]['items']\n",
    "    \n",
    "nearby_venues = pd.json_normalize(venues) # flatten JSON\n",
    "\n",
    "# filter columns\n",
    "filtered_columns = ['venue.name', 'venue.categories', 'venue.location.lat', 'venue.location.lng']\n",
    "nearby_venues =nearby_venues.loc[:, filtered_columns]\n",
    "\n",
    "# filter the category for each row\n",
    "nearby_venues['venue.categories'] = nearby_venues.apply(get_category_type, axis=1)\n",
    "\n",
    "# clean columns\n",
    "nearby_venues.columns = [col.split(\".\")[-1] for col in nearby_venues.columns]\n",
    "\n",
    "nearby_venues.head()"
   ]
  },
  {
   "cell_type": "code",
   "execution_count": null,
   "metadata": {},
   "outputs": [],
   "source": []
  }
 ],
 "metadata": {
  "kernelspec": {
   "display_name": "Python 3",
   "language": "python",
   "name": "python3"
  },
  "language_info": {
   "codemirror_mode": {
    "name": "ipython",
    "version": 3
   },
   "file_extension": ".py",
   "mimetype": "text/x-python",
   "name": "python",
   "nbconvert_exporter": "python",
   "pygments_lexer": "ipython3",
   "version": "3.7.6"
  }
 },
 "nbformat": 4,
 "nbformat_minor": 4
}
