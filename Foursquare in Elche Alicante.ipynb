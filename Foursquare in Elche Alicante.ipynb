{
 "cells": [
  {
   "cell_type": "markdown",
   "metadata": {},
   "source": [
    "# Business in Elche"
   ]
  },
  {
   "cell_type": "markdown",
   "metadata": {},
   "source": [
    "## Opening a Padel Tennis Club in Elche"
   ]
  },
  {
   "cell_type": "markdown",
   "metadata": {},
   "source": [
    "In times of Covid-19, the people is concerned about the minimum distance across individuals. So an investor is willing to open a Padel Tennis Club where people can do sport in a secure way."
   ]
  },
  {
   "cell_type": "markdown",
   "metadata": {},
   "source": [
    "In order to achieve this objective, we're going to use Foursquare API to know where can be a good location and where are the other similar clubs, trying to be a step away from other clubs."
   ]
  },
  {
   "cell_type": "markdown",
   "metadata": {},
   "source": [
    "This club is for people who wants to stay healthy and to achieve this status, they want to do it in a funny and secure way."
   ]
  },
  {
   "cell_type": "markdown",
   "metadata": {},
   "source": [
    "## Data section"
   ]
  },
  {
   "cell_type": "markdown",
   "metadata": {},
   "source": [
    "For this project, we are using the Foursquare API location to know in neighborhoods has a Padel Tennis Club and how common it is. Also, in order to make this project more reliable, there will be an approximation on the annual income of each neighborhood, because people with more income wants to be social distinguised, so this also attracts other people that want to enter in this world."
   ]
  },
  {
   "cell_type": "markdown",
   "metadata": {},
   "source": [
    "The *Neighborhoods* and *Annual Income* for each neighborhood are going to be introduced manually because they aren't easily accesible across internet. Then we are goint to download all venues from the Foursquare API that has each neighborhood. After this, we search the neighborhood that has a Padel Tennis Club or similar. Then we see if there is a relation between the annual income and the existence of a Padel Tennis Club. Finally, we select an appropiate neighborhood to locate the Padel Tennis Club if there is a good one."
   ]
  },
  {
   "cell_type": "markdown",
   "metadata": {},
   "source": [
    "## Import libraries"
   ]
  },
  {
   "cell_type": "code",
   "execution_count": 18,
   "metadata": {},
   "outputs": [],
   "source": [
    "import pandas as pd\n",
    "import numpy as np\n",
    "from geopy.geocoders import Nominatim # convert an address into latitude and longitude values\n",
    "import folium # map rendering library\n",
    "import requests # library to handle requests\n",
    "from pandas.io.json import json_normalize # tranform JSON file into a pandas dataframe\n",
    "# import k-means from clustering stage\n",
    "from sklearn.cluster import KMeans\n",
    "# Matplotlib and associated plotting modules\n",
    "import matplotlib.pyplot as plt\n",
    "import matplotlib.cm as cm\n",
    "import matplotlib.colors as colors"
   ]
  },
  {
   "cell_type": "markdown",
   "metadata": {},
   "source": [
    "### Create DataFrame of *Postal Codes*, *Neighborhoods* and *Annual Income* in Elche with pandas"
   ]
  },
  {
   "cell_type": "markdown",
   "metadata": {},
   "source": [
    "Create a DataFrame manually as this information is only available locally."
   ]
  },
  {
   "cell_type": "code",
   "execution_count": 117,
   "metadata": {},
   "outputs": [
    {
     "data": {
      "text/html": [
       "<div>\n",
       "<style scoped>\n",
       "    .dataframe tbody tr th:only-of-type {\n",
       "        vertical-align: middle;\n",
       "    }\n",
       "\n",
       "    .dataframe tbody tr th {\n",
       "        vertical-align: top;\n",
       "    }\n",
       "\n",
       "    .dataframe thead th {\n",
       "        text-align: right;\n",
       "    }\n",
       "</style>\n",
       "<table border=\"1\" class=\"dataframe\">\n",
       "  <thead>\n",
       "    <tr style=\"text-align: right;\">\n",
       "      <th></th>\n",
       "      <th>Postal Code</th>\n",
       "      <th>Borough</th>\n",
       "      <th>Neighborhood</th>\n",
       "      <th>Latitude</th>\n",
       "      <th>Longitude</th>\n",
       "      <th>Annual Income</th>\n",
       "    </tr>\n",
       "  </thead>\n",
       "  <tbody>\n",
       "    <tr>\n",
       "      <th>0</th>\n",
       "      <td>03139</td>\n",
       "      <td>Camp d'Elx</td>\n",
       "      <td>Valverde</td>\n",
       "      <td>38.236437</td>\n",
       "      <td>-0.597824</td>\n",
       "      <td>22213</td>\n",
       "    </tr>\n",
       "    <tr>\n",
       "      <th>1</th>\n",
       "      <td>03194</td>\n",
       "      <td>Camp d'Elx</td>\n",
       "      <td>La Marina</td>\n",
       "      <td>38.147014</td>\n",
       "      <td>-0.644511</td>\n",
       "      <td>20000</td>\n",
       "    </tr>\n",
       "    <tr>\n",
       "      <th>2</th>\n",
       "      <td>03195</td>\n",
       "      <td>Camp d'Elx</td>\n",
       "      <td>El Altet, Los Arenales</td>\n",
       "      <td>38.265322</td>\n",
       "      <td>-0.546587</td>\n",
       "      <td>22213</td>\n",
       "    </tr>\n",
       "    <tr>\n",
       "      <th>3</th>\n",
       "      <td>03201</td>\n",
       "      <td>El Pla</td>\n",
       "      <td>Pont Nou, El Pla Alt</td>\n",
       "      <td>38.265580</td>\n",
       "      <td>-0.705921</td>\n",
       "      <td>21638</td>\n",
       "    </tr>\n",
       "    <tr>\n",
       "      <th>4</th>\n",
       "      <td>03202</td>\n",
       "      <td>Altabix</td>\n",
       "      <td>Altabix, Candalix, Ciutat Esportiva</td>\n",
       "      <td>38.271360</td>\n",
       "      <td>-0.684831</td>\n",
       "      <td>23595</td>\n",
       "    </tr>\n",
       "  </tbody>\n",
       "</table>\n",
       "</div>"
      ],
      "text/plain": [
       "  Postal Code     Borough                         Neighborhood   Latitude  \\\n",
       "0       03139  Camp d'Elx                             Valverde  38.236437   \n",
       "1       03194  Camp d'Elx                            La Marina  38.147014   \n",
       "2       03195  Camp d'Elx               El Altet, Los Arenales  38.265322   \n",
       "3       03201      El Pla                 Pont Nou, El Pla Alt  38.265580   \n",
       "4       03202     Altabix  Altabix, Candalix, Ciutat Esportiva  38.271360   \n",
       "\n",
       "   Longitude  Annual Income  \n",
       "0  -0.597824          22213  \n",
       "1  -0.644511          20000  \n",
       "2  -0.546587          22213  \n",
       "3  -0.705921          21638  \n",
       "4  -0.684831          23595  "
      ]
     },
     "execution_count": 117,
     "metadata": {},
     "output_type": "execute_result"
    }
   ],
   "source": [
    "data = {\"Postal Code\" : [\"03139\", \"03194\", \"03195\", \"03201\", \"03202\", \"03203\", \"03204\", \"03205\",\"03206\", \"03207\", \"03208\", \"03291\", \"03292\", \"03294\", \"03295\", \"03296\", \"03320\"],\n",
    "       \"Borough\" : [\"Camp d'Elx\", \"Camp d'Elx\", \"Camp d'Elx\", \"El Pla\", \"Altabix\", \"Altabix\", \"El Pla\", \"Carrús\", \"Carrús\", \"Camp d'Elx\", \"Altabix\", \"Camp d'Elx\", \"Camp d'Elx\", \"Camp d'Elx\", \"Camp d'Elx\", \"Camp d'Elx\", \"Torrellano\"],\n",
    "       \"Neighborhood\" : [\"Valverde\", \"La Marina\", \"El Altet, Los Arenales\", \"Pont Nou, El Pla Alt\", \"Altabix, Candalix, Ciutat Esportiva\", \"Altabix Sur, Palmerales, La Torreta\", \"El Pla\", \"El Toscar\", \"Carrús Est\", \"La Galia\", \"Camp de Futbol\", \"Bonavista\", \"Las Bayas\", \"La Foia\", \"Maitino, Perleta\", \"Matola, Algoda\", \"Torrellano\"],\n",
    "       \"Latitude\" : [38.236437, 38.147014, 38.265322, 38.265580, 38.271360, 38.263938, 38.258853, 38.268918, 38.273851, 38.283386, 38.264313, 38.299481, 38.217869, 38.210718, 38.262412, 38.232012, 38.291186],\n",
    "       \"Longitude\" : [-0.597824, -0.644511, -0.546587, -0.705921, -0.684831, -0.687454, -0.705489, -0.714424, -0.707434, -0.690748, -0.664464, -0.681519, -0.640361, -0.682850, -0.634930, -0.745682, -0.590044],\n",
    "       \"Annual Income\" : [22213, 20000, 22213, 21638, 23595, 26155, 18618, 16811, 15320, 20000, 20000, 20000, 20264, 18711, 25067, 22576, 20474]}\n",
    "df = pd.DataFrame (data, columns = [\"Postal Code\", \"Borough\", \"Neighborhood\", \"Latitude\", \"Longitude\", \"Annual Income\"])\n",
    "df.head()"
   ]
  },
  {
   "cell_type": "markdown",
   "metadata": {},
   "source": [
    "### Shape of the dataframe"
   ]
  },
  {
   "cell_type": "code",
   "execution_count": 118,
   "metadata": {},
   "outputs": [
    {
     "data": {
      "text/plain": [
       "(17, 6)"
      ]
     },
     "execution_count": 118,
     "metadata": {},
     "output_type": "execute_result"
    }
   ],
   "source": [
    "df.shape"
   ]
  },
  {
   "cell_type": "markdown",
   "metadata": {},
   "source": [
    "### How many unique boroughs has Elche"
   ]
  },
  {
   "cell_type": "code",
   "execution_count": 119,
   "metadata": {},
   "outputs": [
    {
     "data": {
      "text/html": [
       "<div>\n",
       "<style scoped>\n",
       "    .dataframe tbody tr th:only-of-type {\n",
       "        vertical-align: middle;\n",
       "    }\n",
       "\n",
       "    .dataframe tbody tr th {\n",
       "        vertical-align: top;\n",
       "    }\n",
       "\n",
       "    .dataframe thead th {\n",
       "        text-align: right;\n",
       "    }\n",
       "</style>\n",
       "<table border=\"1\" class=\"dataframe\">\n",
       "  <thead>\n",
       "    <tr style=\"text-align: right;\">\n",
       "      <th></th>\n",
       "      <th>Borough</th>\n",
       "      <th>Neighborhood</th>\n",
       "      <th>Latitude</th>\n",
       "      <th>Longitude</th>\n",
       "    </tr>\n",
       "  </thead>\n",
       "  <tbody>\n",
       "    <tr>\n",
       "      <th>0</th>\n",
       "      <td>Camp d'Elx</td>\n",
       "      <td>Valverde</td>\n",
       "      <td>38.236437</td>\n",
       "      <td>-0.597824</td>\n",
       "    </tr>\n",
       "    <tr>\n",
       "      <th>1</th>\n",
       "      <td>Camp d'Elx</td>\n",
       "      <td>La Marina</td>\n",
       "      <td>38.147014</td>\n",
       "      <td>-0.644511</td>\n",
       "    </tr>\n",
       "    <tr>\n",
       "      <th>2</th>\n",
       "      <td>Camp d'Elx</td>\n",
       "      <td>El Altet, Los Arenales</td>\n",
       "      <td>38.265322</td>\n",
       "      <td>-0.546587</td>\n",
       "    </tr>\n",
       "    <tr>\n",
       "      <th>3</th>\n",
       "      <td>El Pla</td>\n",
       "      <td>Pont Nou, El Pla Alt</td>\n",
       "      <td>38.265580</td>\n",
       "      <td>-0.705921</td>\n",
       "    </tr>\n",
       "    <tr>\n",
       "      <th>4</th>\n",
       "      <td>Altabix</td>\n",
       "      <td>Altabix, Candalix, Ciutat Esportiva</td>\n",
       "      <td>38.271360</td>\n",
       "      <td>-0.684831</td>\n",
       "    </tr>\n",
       "    <tr>\n",
       "      <th>5</th>\n",
       "      <td>Altabix</td>\n",
       "      <td>Altabix Sur, Palmerales, La Torreta</td>\n",
       "      <td>38.263938</td>\n",
       "      <td>-0.687454</td>\n",
       "    </tr>\n",
       "    <tr>\n",
       "      <th>6</th>\n",
       "      <td>El Pla</td>\n",
       "      <td>El Pla</td>\n",
       "      <td>38.258853</td>\n",
       "      <td>-0.705489</td>\n",
       "    </tr>\n",
       "    <tr>\n",
       "      <th>7</th>\n",
       "      <td>Carrús</td>\n",
       "      <td>El Toscar</td>\n",
       "      <td>38.268918</td>\n",
       "      <td>-0.714424</td>\n",
       "    </tr>\n",
       "    <tr>\n",
       "      <th>8</th>\n",
       "      <td>Carrús</td>\n",
       "      <td>Carrús Est</td>\n",
       "      <td>38.273851</td>\n",
       "      <td>-0.707434</td>\n",
       "    </tr>\n",
       "    <tr>\n",
       "      <th>9</th>\n",
       "      <td>Camp d'Elx</td>\n",
       "      <td>La Galia</td>\n",
       "      <td>38.283386</td>\n",
       "      <td>-0.690748</td>\n",
       "    </tr>\n",
       "    <tr>\n",
       "      <th>10</th>\n",
       "      <td>Altabix</td>\n",
       "      <td>Camp de Futbol</td>\n",
       "      <td>38.264313</td>\n",
       "      <td>-0.664464</td>\n",
       "    </tr>\n",
       "    <tr>\n",
       "      <th>11</th>\n",
       "      <td>Camp d'Elx</td>\n",
       "      <td>Bonavista</td>\n",
       "      <td>38.299481</td>\n",
       "      <td>-0.681519</td>\n",
       "    </tr>\n",
       "    <tr>\n",
       "      <th>12</th>\n",
       "      <td>Camp d'Elx</td>\n",
       "      <td>Las Bayas</td>\n",
       "      <td>38.217869</td>\n",
       "      <td>-0.640361</td>\n",
       "    </tr>\n",
       "    <tr>\n",
       "      <th>13</th>\n",
       "      <td>Camp d'Elx</td>\n",
       "      <td>La Foia</td>\n",
       "      <td>38.210718</td>\n",
       "      <td>-0.682850</td>\n",
       "    </tr>\n",
       "    <tr>\n",
       "      <th>14</th>\n",
       "      <td>Camp d'Elx</td>\n",
       "      <td>Maitino, Perleta</td>\n",
       "      <td>38.262412</td>\n",
       "      <td>-0.634930</td>\n",
       "    </tr>\n",
       "    <tr>\n",
       "      <th>15</th>\n",
       "      <td>Camp d'Elx</td>\n",
       "      <td>Matola, Algoda</td>\n",
       "      <td>38.232012</td>\n",
       "      <td>-0.745682</td>\n",
       "    </tr>\n",
       "    <tr>\n",
       "      <th>16</th>\n",
       "      <td>Torrellano</td>\n",
       "      <td>Torrellano</td>\n",
       "      <td>38.291186</td>\n",
       "      <td>-0.590044</td>\n",
       "    </tr>\n",
       "  </tbody>\n",
       "</table>\n",
       "</div>"
      ],
      "text/plain": [
       "       Borough                         Neighborhood   Latitude  Longitude\n",
       "0   Camp d'Elx                             Valverde  38.236437  -0.597824\n",
       "1   Camp d'Elx                            La Marina  38.147014  -0.644511\n",
       "2   Camp d'Elx               El Altet, Los Arenales  38.265322  -0.546587\n",
       "3       El Pla                 Pont Nou, El Pla Alt  38.265580  -0.705921\n",
       "4      Altabix  Altabix, Candalix, Ciutat Esportiva  38.271360  -0.684831\n",
       "5      Altabix  Altabix Sur, Palmerales, La Torreta  38.263938  -0.687454\n",
       "6       El Pla                               El Pla  38.258853  -0.705489\n",
       "7       Carrús                            El Toscar  38.268918  -0.714424\n",
       "8       Carrús                           Carrús Est  38.273851  -0.707434\n",
       "9   Camp d'Elx                             La Galia  38.283386  -0.690748\n",
       "10     Altabix                       Camp de Futbol  38.264313  -0.664464\n",
       "11  Camp d'Elx                            Bonavista  38.299481  -0.681519\n",
       "12  Camp d'Elx                            Las Bayas  38.217869  -0.640361\n",
       "13  Camp d'Elx                              La Foia  38.210718  -0.682850\n",
       "14  Camp d'Elx                     Maitino, Perleta  38.262412  -0.634930\n",
       "15  Camp d'Elx                       Matola, Algoda  38.232012  -0.745682\n",
       "16  Torrellano                           Torrellano  38.291186  -0.590044"
      ]
     },
     "execution_count": 119,
     "metadata": {},
     "output_type": "execute_result"
    }
   ],
   "source": [
    "neighborhoods = df\n",
    "neighborhoods.drop([\"Postal Code\", \"Annual Income\"], axis=1)"
   ]
  },
  {
   "cell_type": "code",
   "execution_count": 120,
   "metadata": {},
   "outputs": [
    {
     "name": "stdout",
     "output_type": "stream",
     "text": [
      "The dataframe has 5 boroughs and 17 neighborhoods.\n"
     ]
    }
   ],
   "source": [
    "print('The dataframe has {} boroughs and {} neighborhoods.'.format(\n",
    "        len(neighborhoods['Borough'].unique()),\n",
    "        neighborhoods.shape[0]\n",
    "    )\n",
    ")"
   ]
  },
  {
   "cell_type": "markdown",
   "metadata": {},
   "source": [
    "#### Use geopy library to get the latitude and longitude values of Elche."
   ]
  },
  {
   "cell_type": "code",
   "execution_count": 121,
   "metadata": {},
   "outputs": [
    {
     "name": "stdout",
     "output_type": "stream",
     "text": [
      "The geograpical coordinate of Elche City are 38.2653181, -0.6988488.\n"
     ]
    }
   ],
   "source": [
    "address = 'Elche, Spain'\n",
    "\n",
    "geolocator = Nominatim(user_agent=\"toronto_explorer\")\n",
    "location = geolocator.geocode(address)\n",
    "latitude = location.latitude\n",
    "longitude = location.longitude\n",
    "print('The geograpical coordinate of Elche City are {}, {}.'.format(latitude, longitude))"
   ]
  },
  {
   "cell_type": "markdown",
   "metadata": {},
   "source": [
    "#### Create a map of Elche with neighborhoods superimposed on top."
   ]
  },
  {
   "cell_type": "code",
   "execution_count": 122,
   "metadata": {},
   "outputs": [
    {
     "data": {
      "text/html": [
       "<div style=\"width:100%;\"><div style=\"position:relative;width:100%;height:0;padding-bottom:60%;\"><iframe src=\"about:blank\" style=\"position:absolute;width:100%;height:100%;left:0;top:0;border:none !important;\" data-html=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 onload=\"this.contentDocument.open();this.contentDocument.write(atob(this.getAttribute('data-html')));this.contentDocument.close();\" allowfullscreen webkitallowfullscreen mozallowfullscreen></iframe></div></div>"
      ],
      "text/plain": [
       "<folium.folium.Map at 0x20f11824708>"
      ]
     },
     "execution_count": 122,
     "metadata": {},
     "output_type": "execute_result"
    }
   ],
   "source": [
    "# create map of Elche using latitude and longitude values\n",
    "map_elche = folium.Map(location=[latitude, longitude], zoom_start=10)\n",
    "\n",
    "# add markers to map\n",
    "for lat, lng, borough, neighborhood in zip(neighborhoods['Latitude'], neighborhoods['Longitude'], neighborhoods['Borough'], neighborhoods['Neighborhood']):\n",
    "    label = '{}, {}'.format(neighborhood, borough)\n",
    "    label = folium.Popup(label, parse_html=True)\n",
    "    folium.CircleMarker(\n",
    "        [lat, lng],\n",
    "        radius=5,\n",
    "        popup=label,\n",
    "        color='blue',\n",
    "        fill=True,\n",
    "        fill_color='#3186cc',\n",
    "        fill_opacity=0.7,\n",
    "        parse_html=False).add_to(map_elche)  \n",
    "    \n",
    "map_elche"
   ]
  },
  {
   "cell_type": "markdown",
   "metadata": {},
   "source": [
    "Next, we are going to start utilizing the Foursquare API to explore the neighborhoods"
   ]
  },
  {
   "cell_type": "markdown",
   "metadata": {},
   "source": [
    "### Define Foursquare Credentials and Version"
   ]
  },
  {
   "cell_type": "code",
   "execution_count": 111,
   "metadata": {},
   "outputs": [
    {
     "name": "stdout",
     "output_type": "stream",
     "text": [
      "Your credentails:\n",
      "CLIENT_ID: 3BYUZL4WX20DWNURR5PQQRY5MIHE3PZNE3E0REKDJUZ11L3Z\n",
      "CLIENT_SECRET:GXQL5JCV1SQW2SHOVHUUIHEEZJ3LJJ2E3PGNLBVDOZIQIFKG\n"
     ]
    }
   ],
   "source": [
    "CLIENT_ID = '3BYUZL4WX20DWNURR5PQQRY5MIHE3PZNE3E0REKDJUZ11L3Z' # your Foursquare ID\n",
    "CLIENT_SECRET = 'GXQL5JCV1SQW2SHOVHUUIHEEZJ3LJJ2E3PGNLBVDOZIQIFKG' # your Foursquare Secret\n",
    "VERSION = '20180605' # Foursquare API version\n",
    "\n",
    "print('Your credentails:')\n",
    "print('CLIENT_ID: ' + CLIENT_ID)\n",
    "print('CLIENT_SECRET:' + CLIENT_SECRET)"
   ]
  },
  {
   "cell_type": "markdown",
   "metadata": {},
   "source": [
    "Let's create the GET request URL"
   ]
  },
  {
   "cell_type": "code",
   "execution_count": 112,
   "metadata": {},
   "outputs": [
    {
     "data": {
      "text/plain": [
       "'https://api.foursquare.com/v2/venues/explore?&client_id=3BYUZL4WX20DWNURR5PQQRY5MIHE3PZNE3E0REKDJUZ11L3Z&client_secret=GXQL5JCV1SQW2SHOVHUUIHEEZJ3LJJ2E3PGNLBVDOZIQIFKG&v=20180605&ll=38.236437,-0.597824&radius=500&limit=100'"
      ]
     },
     "execution_count": 112,
     "metadata": {},
     "output_type": "execute_result"
    }
   ],
   "source": [
    "LIMIT = 100\n",
    "radius = 500 # define radius\n",
    "url = 'https://api.foursquare.com/v2/venues/explore?&client_id={}&client_secret={}&v={}&ll={},{}&radius={}&limit={}'.format(\n",
    "    CLIENT_ID, \n",
    "    CLIENT_SECRET, \n",
    "    VERSION, \n",
    "    neighborhood_latitude, \n",
    "    neighborhood_longitude, \n",
    "    radius, \n",
    "    LIMIT)\n",
    "url # display URL"
   ]
  },
  {
   "cell_type": "markdown",
   "metadata": {},
   "source": [
    "From the Foursquare lab in the previous module, we know that all the information is in the *items* key. Before we proceed, let's borrow the **get_category_type** function from the Foursquare lab."
   ]
  },
  {
   "cell_type": "code",
   "execution_count": 113,
   "metadata": {},
   "outputs": [],
   "source": [
    "# function that extracts the category of the venue\n",
    "def get_category_type(row):\n",
    "    try:\n",
    "        categories_list = row['categories']\n",
    "    except:\n",
    "        categories_list = row['venue.categories']\n",
    "        \n",
    "    if len(categories_list) == 0:\n",
    "        return None\n",
    "    else:\n",
    "        return categories_list[0]['name']"
   ]
  },
  {
   "cell_type": "markdown",
   "metadata": {},
   "source": [
    "#### Let's create a function to repeat the same process to all the neighborhoods in Elche"
   ]
  },
  {
   "cell_type": "code",
   "execution_count": 114,
   "metadata": {},
   "outputs": [],
   "source": [
    "def getNearbyVenues(names, latitudes, longitudes, radius=500):\n",
    "    \n",
    "    venues_list=[]\n",
    "    for name, lat, lng in zip(names, latitudes, longitudes):\n",
    "        print(name)\n",
    "            \n",
    "        # create the API request URL\n",
    "        url = 'https://api.foursquare.com/v2/venues/explore?&client_id={}&client_secret={}&v={}&ll={},{}&radius={}&limit={}'.format(\n",
    "            CLIENT_ID, \n",
    "            CLIENT_SECRET, \n",
    "            VERSION, \n",
    "            lat, \n",
    "            lng, \n",
    "            radius, \n",
    "            LIMIT)\n",
    "            \n",
    "        # make the GET request\n",
    "        #print(url)\n",
    "        results = requests.get(url).json()[\"response\"]['groups'][0]['items']\n",
    "        \n",
    "        # return only relevant information for each nearby venue\n",
    "        venues_list.append([(\n",
    "            name, \n",
    "            lat, \n",
    "            lng, \n",
    "            v['venue']['name'], \n",
    "            v['venue']['location']['lat'], \n",
    "            v['venue']['location']['lng'],  \n",
    "            v['venue']['categories'][0]['name']) for v in results])\n",
    "\n",
    "    nearby_venues = pd.DataFrame([item for venue_list in venues_list for item in venue_list])\n",
    "    nearby_venues.columns = ['Neighborhood', \n",
    "                  'Neighborhood Latitude', \n",
    "                  'Neighborhood Longitude', \n",
    "                  'Venue', \n",
    "                  'Venue Latitude', \n",
    "                  'Venue Longitude', \n",
    "                  'Venue Category']\n",
    "    \n",
    "    return(nearby_venues)"
   ]
  },
  {
   "cell_type": "markdown",
   "metadata": {},
   "source": [
    "#### Now run the above function on each neighborhood and create a new dataframe called *elche_venues*."
   ]
  },
  {
   "cell_type": "code",
   "execution_count": 29,
   "metadata": {},
   "outputs": [
    {
     "name": "stdout",
     "output_type": "stream",
     "text": [
      "Valverde\n",
      "La Marina\n",
      "El Altet, Los Arenales\n",
      "Pont Nou, El Pla Alt\n",
      "Altabix, Candalix, Cases de Fernandez, Ciutat Esportiva, Ciutat Universitaria\n",
      "Altabix Sur, Palmerales, La Torreta\n",
      "El Pla\n",
      "El Toscar\n",
      "Carrús Est\n",
      "La Galia\n",
      "Camp de Futbol\n",
      "Bonavista\n",
      "Las Bayas\n",
      "La Foia\n",
      "Maitino, Perleta\n",
      "Matola, Algoda\n",
      "Torrellano\n"
     ]
    }
   ],
   "source": [
    "elche_venues = getNearbyVenues(names=neighborhoods['Neighborhood'],\n",
    "                                   latitudes=neighborhoods['Latitude'],\n",
    "                                   longitudes=neighborhoods['Longitude']\n",
    "                                  )"
   ]
  },
  {
   "cell_type": "markdown",
   "metadata": {},
   "source": [
    "#### Let's find out how many unique *Tennis Court* are in Elche"
   ]
  },
  {
   "cell_type": "code",
   "execution_count": 55,
   "metadata": {},
   "outputs": [
    {
     "name": "stdout",
     "output_type": "stream",
     "text": [
      "There are 1 Padel Tennis Court in Elche.\n"
     ]
    }
   ],
   "source": [
    "print(\"There are {} Padel Tennis Court in Elche.\".format(len(elche_venues[elche_venues[\"Venue Category\"] == \"Tennis Court\"])))"
   ]
  },
  {
   "cell_type": "markdown",
   "metadata": {},
   "source": [
    "#### In which neighborhood is the Tennis Court?"
   ]
  },
  {
   "cell_type": "code",
   "execution_count": 83,
   "metadata": {},
   "outputs": [
    {
     "data": {
      "text/plain": [
       "77    Camp de Futbol\n",
       "Name: Neighborhood, dtype: object"
      ]
     },
     "execution_count": 83,
     "metadata": {},
     "output_type": "execute_result"
    }
   ],
   "source": [
    "elche_venues[elche_venues[\"Venue Category\"] == \"Tennis Court\"].Neighborhood"
   ]
  },
  {
   "cell_type": "markdown",
   "metadata": {},
   "source": [
    "In *Camp de Futbol* neighborhood"
   ]
  },
  {
   "cell_type": "markdown",
   "metadata": {},
   "source": [
    "#### Now let's plot the Annual Income across Neighborhoods"
   ]
  },
  {
   "cell_type": "code",
   "execution_count": 142,
   "metadata": {},
   "outputs": [
    {
     "data": {
      "image/png": "[encoded data removed]",
      "text/plain": [
       "<Figure size 432x288 with 1 Axes>"
      ]
     },
     "metadata": {
      "needs_background": "light"
     },
     "output_type": "display_data"
    }
   ],
   "source": [
    "df.plot(x=\"Neighborhood\", y=\"Annual Income\", kind=\"bar\", title=\"Annual Income per Neigborhood\")\n",
    "plt.hlines(df[\"Annual Income\"].mean(), xmin=0, xmax=16, linestyles='dashed', color = \"red\")\n",
    "plt.show()"
   ]
  },
  {
   "cell_type": "markdown",
   "metadata": {},
   "source": [
    "As we can see the **\"Camp de Futbol\"** neighborhood is under the mean. So there isn't a relation between *Annual Income* and the existence of a Padel Tenis Club, so we can select any neighborhood with the probabilities of success. So we aren't able to select just one neighborhood."
   ]
  }
 ],
 "metadata": {
  "kernelspec": {
   "display_name": "Python 3",
   "language": "python",
   "name": "python3"
  },
  "language_info": {
   "codemirror_mode": {
    "name": "ipython",
    "version": 3
   },
   "file_extension": ".py",
   "mimetype": "text/x-python",
   "name": "python",
   "nbconvert_exporter": "python",
   "pygments_lexer": "ipython3",
   "version": "3.7.6"
  }
 },
 "nbformat": 4,
 "nbformat_minor": 4
}
